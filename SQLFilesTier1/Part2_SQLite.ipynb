{
 "cells": [
  {
   "cell_type": "code",
   "execution_count": 3,
   "metadata": {},
   "outputs": [
    {
     "name": "stdout",
     "output_type": "stream",
     "text": [
      "2.6.0\n",
      "2. Query all tasks\n",
      "('Florence', 'Bader')\n",
      "('Timothy', 'Baker')\n",
      "('Gerald', 'Butters')\n",
      "('Jemima', 'Farrell')\n",
      "('Matthew', 'Genting')\n",
      "('David', 'Jones')\n",
      "('Janice', 'Joplette')\n",
      "('Millicent', 'Purview')\n",
      "('Tim', 'Rownam')\n",
      "('Darren', 'Smith')\n",
      "('Tracy', 'Smith')\n",
      "('Ponder', 'Stibbons')\n",
      "('Burton', 'Tracy')\n"
     ]
    }
   ],
   "source": [
    "import sqlite3\n",
    "from sqlite3 import Error\n",
    "\n",
    " \n",
    "def create_connection(db_file):\n",
    "    \"\"\" create a database connection to the SQLite database\n",
    "        specified by the db_file\n",
    "    :param db_file: database file\n",
    "    :return: Connection object or None\n",
    "    \"\"\"\n",
    "    conn = None\n",
    "    try:\n",
    "        conn = sqlite3.connect(db_file)\n",
    "        print(sqlite3.version)\n",
    "    except Error as e:\n",
    "        print(e)\n",
    " \n",
    "    return conn\n",
    "\n",
    " \n",
    "def select_all_tasks(conn):\n",
    "    \"\"\"\n",
    "    Query all rows in the tasks table\n",
    "    :param conn: the Connection object\n",
    "    :return:\n",
    "    \"\"\"\n",
    "    cur = conn.cursor()\n",
    "    \n",
    "    query1 = \"\"\"\n",
    "select distinct m2.firstname as firstname, m2.surname as surname\n",
    "\tfrom \n",
    "\t\tMembers m\n",
    "\t\tinner join Members m2\n",
    "\t\t\ton m2.memid = m.recommendedby\n",
    "order by surname, firstname; \n",
    "        \"\"\"\n",
    "    cur.execute(query1)\n",
    " \n",
    "    rows = cur.fetchall()\n",
    " \n",
    "    for row in rows:\n",
    "        print(row)\n",
    "\n",
    "\n",
    "def main():\n",
    "    database = \"sqlite_db_pythonsqlite.db\"\n",
    " \n",
    "    # create a database connection\n",
    "    conn = create_connection(database)\n",
    "    with conn: \n",
    "        print(\"2. Query all tasks\")\n",
    "        select_all_tasks(conn)\n",
    " \n",
    " \n",
    "if __name__ == '__main__':\n",
    "    main()"
   ]
  },
  {
   "cell_type": "code",
   "execution_count": null,
   "metadata": {},
   "outputs": [],
   "source": [
    "/* Q10: Produce a list of facilities with a total revenue less than 1000.\n",
    "The output of facility name and total revenue, sorted by revenue. Remember\n",
    "that there's a different cost for guests and members! */\n",
    "\n",
    "select name, revenue from (\n",
    "\tselect Facilities.name, sum(case \n",
    "\t\t\t\twhen memid = 0 then slots * Facilities.guestcost\n",
    "\t\t\t\telse slots * Facilities.membercost\n",
    "\t\t\tend) as revenue\n",
    "\t\tfrom Bookings \n",
    "\t\tinner join Facilities\n",
    "\t\t\ton Bookings.facid = Facilities.facid\n",
    "\t\tgroup by Facilities.name\n",
    "\t) as agg where revenue < 1000\n",
    "order by revenue DESC;"
   ]
  },
  {
   "cell_type": "code",
   "execution_count": null,
   "metadata": {},
   "outputs": [],
   "source": [
    "/* Q11: Produce a report of members and who recommended them in alphabetic surname,firstname order */\n",
    "    \n",
    "select distinct m2.firstname as firstname, m2.surname as surname\n",
    "\tfrom \n",
    "\t\tMembers m\n",
    "\t\tinner join Members m2\n",
    "\t\t\ton m2.memid = m.recommendedby\n",
    "order by surname, firstname; "
   ]
  },
  {
   "cell_type": "code",
   "execution_count": null,
   "metadata": {},
   "outputs": [],
   "source": [
    "/* Q12: Find the facilities with their usage by member, but not guests */\n",
    "\n",
    "SELECT facid, sum(slots) as Total FROM Bookings\n",
    "\tINNER JOIN Members ON Bookings.memid = Members.memid\n",
    "GROUP BY facid\n",
    "ORDER BY facid"
   ]
  },
  {
   "cell_type": "code",
   "execution_count": null,
   "metadata": {},
   "outputs": [],
   "source": [
    "/* Q13: Find the facilities usage by month, but not guests */\n",
    "\n",
    "SELECT facid, extract(month from starttime) AS month, sum(slots) AS Total\n",
    "FROM Bookings\n",
    "WHERE extract(year from starttime) = 2012\n",
    "GROUP BY facid, month\n",
    "ORDER BY facid, month  "
   ]
  }
 ],
 "metadata": {
  "kernelspec": {
   "display_name": "Python 3",
   "language": "python",
   "name": "python3"
  },
  "language_info": {
   "codemirror_mode": {
    "name": "ipython",
    "version": 3
   },
   "file_extension": ".py",
   "mimetype": "text/x-python",
   "name": "python",
   "nbconvert_exporter": "python",
   "pygments_lexer": "ipython3",
   "version": "3.8.5"
  }
 },
 "nbformat": 4,
 "nbformat_minor": 4
}
